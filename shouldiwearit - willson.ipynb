{
 "cells": [
  {
   "cell_type": "code",
   "execution_count": 1,
   "metadata": {
    "id": "rTH1bPadEzd2"
   },
   "outputs": [
    {
     "name": "stderr",
     "output_type": "stream",
     "text": [
      "c:\\Users\\Willson\\anaconda3\\envs\\ml\\Lib\\site-packages\\tqdm\\auto.py:21: TqdmWarning: IProgress not found. Please update jupyter and ipywidgets. See https://ipywidgets.readthedocs.io/en/stable/user_install.html\n",
      "  from .autonotebook import tqdm as notebook_tqdm\n"
     ]
    }
   ],
   "source": [
    "# Dependencies\n",
    "\n",
    "import os\n",
    "import torch\n",
    "import torch.nn as nn\n",
    "from torchvision import transforms, datasets\n",
    "from torch.utils.data import DataLoader, Dataset"
   ]
  },
  {
   "cell_type": "markdown",
   "metadata": {
    "id": "GL5gPnaIDe7I"
   },
   "source": [
    "### ENCODER PART\n",
    "1. DATA LOADING\n",
    "2. IMAGE PREPROCESSING, RESIZING, CLEANING\n",
    "3. VISION TRANSFORMER ENCODER\n",
    "*   patch embeddding\n",
    "*   vision transformer\n",
    "4. TRAINING LOOP"
   ]
  },
  {
   "cell_type": "markdown",
   "metadata": {
    "id": "muswMA3ADx4r"
   },
   "source": [
    "DATA LOADING OF POLYVORE SET\n",
    "Do we want set to be categorized beforehand or not?"
   ]
  },
  {
   "cell_type": "code",
   "execution_count": 2,
   "metadata": {
    "id": "uS1vig5KDePe"
   },
   "outputs": [
    {
     "name": "stdout",
     "output_type": "stream",
     "text": [
      "c:/Users/Willson/Documents/shouldiwearit/data/clothing/polyvore/pv_images\\bag\n",
      "c:/Users/Willson/Documents/shouldiwearit/data/clothing/polyvore/pv_images\\bracelet\n",
      "c:/Users/Willson/Documents/shouldiwearit/data/clothing/polyvore/pv_images\\brooch\n",
      "c:/Users/Willson/Documents/shouldiwearit/data/clothing/polyvore/pv_images\\dress\n",
      "c:/Users/Willson/Documents/shouldiwearit/data/clothing/polyvore/pv_images\\earrings\n",
      "c:/Users/Willson/Documents/shouldiwearit/data/clothing/polyvore/pv_images\\eyewear\n",
      "c:/Users/Willson/Documents/shouldiwearit/data/clothing/polyvore/pv_images\\gloves\n",
      "c:/Users/Willson/Documents/shouldiwearit/data/clothing/polyvore/pv_images\\hairwear\n",
      "c:/Users/Willson/Documents/shouldiwearit/data/clothing/polyvore/pv_images\\hats\n",
      "c:/Users/Willson/Documents/shouldiwearit/data/clothing/polyvore/pv_images\\jumpsuit\n",
      "c:/Users/Willson/Documents/shouldiwearit/data/clothing/polyvore/pv_images\\legwear\n",
      "c:/Users/Willson/Documents/shouldiwearit/data/clothing/polyvore/pv_images\\necklace\n",
      "c:/Users/Willson/Documents/shouldiwearit/data/clothing/polyvore/pv_images\\neckwear\n",
      "c:/Users/Willson/Documents/shouldiwearit/data/clothing/polyvore/pv_images\\outwear\n",
      "c:/Users/Willson/Documents/shouldiwearit/data/clothing/polyvore/pv_images\\pants\n",
      "c:/Users/Willson/Documents/shouldiwearit/data/clothing/polyvore/pv_images\\rings\n",
      "c:/Users/Willson/Documents/shouldiwearit/data/clothing/polyvore/pv_images\\shoes\n",
      "c:/Users/Willson/Documents/shouldiwearit/data/clothing/polyvore/pv_images\\skirt\n",
      "c:/Users/Willson/Documents/shouldiwearit/data/clothing/polyvore/pv_images\\top\n",
      "c:/Users/Willson/Documents/shouldiwearit/data/clothing/polyvore/pv_images\\watches\n"
     ]
    }
   ],
   "source": [
    "directory = 'c:/Users/Willson/Documents/shouldiwearit/data/clothing/polyvore/pv_images'\n",
    "\n",
    "for filename in os.listdir(directory):\n",
    "    file_path = os.path.join(directory, filename)\n",
    "    print(file_path)\n",
    "    if os.path.isfile(file_path):  # Check if it's a file\n",
    "        print(file_path)"
   ]
  },
  {
   "cell_type": "code",
   "execution_count": 2,
   "metadata": {},
   "outputs": [
    {
     "ename": "KeyboardInterrupt",
     "evalue": "",
     "output_type": "error",
     "traceback": [
      "\u001b[1;31m---------------------------------------------------------------------------\u001b[0m",
      "\u001b[1;31mKeyboardInterrupt\u001b[0m                         Traceback (most recent call last)",
      "Cell \u001b[1;32mIn[2], line 56\u001b[0m\n\u001b[0;32m     53\u001b[0m         \u001b[38;5;28mprint\u001b[39m(\u001b[38;5;124mf\u001b[39m\u001b[38;5;124m'\u001b[39m\u001b[38;5;124mValidation images: \u001b[39m\u001b[38;5;132;01m{\u001b[39;00m\u001b[38;5;28mlen\u001b[39m(val_images)\u001b[38;5;132;01m}\u001b[39;00m\u001b[38;5;124m'\u001b[39m)\n\u001b[0;32m     55\u001b[0m \u001b[38;5;66;03m# Execute the split\u001b[39;00m\n\u001b[1;32m---> 56\u001b[0m \u001b[43msplit_dataset\u001b[49m\u001b[43m(\u001b[49m\u001b[43mdata_dir\u001b[49m\u001b[43m,\u001b[49m\u001b[43m \u001b[49m\u001b[43mtrain_dir\u001b[49m\u001b[43m,\u001b[49m\u001b[43m \u001b[49m\u001b[43mval_dir\u001b[49m\u001b[43m,\u001b[49m\u001b[43m \u001b[49m\u001b[43mval_split\u001b[49m\u001b[43m)\u001b[49m\n",
      "Cell \u001b[1;32mIn[2], line 45\u001b[0m, in \u001b[0;36msplit_dataset\u001b[1;34m(data_dir, train_dir, val_dir, val_split)\u001b[0m\n\u001b[0;32m     42\u001b[0m os\u001b[38;5;241m.\u001b[39mmakedirs(val_category_dir, exist_ok\u001b[38;5;241m=\u001b[39m\u001b[38;5;28;01mTrue\u001b[39;00m)\n\u001b[0;32m     44\u001b[0m \u001b[38;5;28;01mfor\u001b[39;00m img \u001b[38;5;129;01min\u001b[39;00m train_images:\n\u001b[1;32m---> 45\u001b[0m     \u001b[43mshutil\u001b[49m\u001b[38;5;241;43m.\u001b[39;49m\u001b[43mcopy2\u001b[49m\u001b[43m(\u001b[49m\u001b[43mos\u001b[49m\u001b[38;5;241;43m.\u001b[39;49m\u001b[43mpath\u001b[49m\u001b[38;5;241;43m.\u001b[39;49m\u001b[43mjoin\u001b[49m\u001b[43m(\u001b[49m\u001b[43mcategory_path\u001b[49m\u001b[43m,\u001b[49m\u001b[43m \u001b[49m\u001b[43mimg\u001b[49m\u001b[43m)\u001b[49m\u001b[43m,\u001b[49m\u001b[43m \u001b[49m\u001b[43mos\u001b[49m\u001b[38;5;241;43m.\u001b[39;49m\u001b[43mpath\u001b[49m\u001b[38;5;241;43m.\u001b[39;49m\u001b[43mjoin\u001b[49m\u001b[43m(\u001b[49m\u001b[43mtrain_category_dir\u001b[49m\u001b[43m,\u001b[49m\u001b[43m \u001b[49m\u001b[43mimg\u001b[49m\u001b[43m)\u001b[49m\u001b[43m)\u001b[49m\n\u001b[0;32m     47\u001b[0m \u001b[38;5;28;01mfor\u001b[39;00m img \u001b[38;5;129;01min\u001b[39;00m val_images:\n\u001b[0;32m     48\u001b[0m     shutil\u001b[38;5;241m.\u001b[39mcopy2(os\u001b[38;5;241m.\u001b[39mpath\u001b[38;5;241m.\u001b[39mjoin(category_path, img), os\u001b[38;5;241m.\u001b[39mpath\u001b[38;5;241m.\u001b[39mjoin(val_category_dir, img))\n",
      "File \u001b[1;32mc:\\Users\\Willson\\anaconda3\\envs\\ml\\Lib\\shutil.py:448\u001b[0m, in \u001b[0;36mcopy2\u001b[1;34m(src, dst, follow_symlinks)\u001b[0m\n\u001b[0;32m    446\u001b[0m \u001b[38;5;28;01mif\u001b[39;00m os\u001b[38;5;241m.\u001b[39mpath\u001b[38;5;241m.\u001b[39misdir(dst):\n\u001b[0;32m    447\u001b[0m     dst \u001b[38;5;241m=\u001b[39m os\u001b[38;5;241m.\u001b[39mpath\u001b[38;5;241m.\u001b[39mjoin(dst, os\u001b[38;5;241m.\u001b[39mpath\u001b[38;5;241m.\u001b[39mbasename(src))\n\u001b[1;32m--> 448\u001b[0m \u001b[43mcopyfile\u001b[49m\u001b[43m(\u001b[49m\u001b[43msrc\u001b[49m\u001b[43m,\u001b[49m\u001b[43m \u001b[49m\u001b[43mdst\u001b[49m\u001b[43m,\u001b[49m\u001b[43m \u001b[49m\u001b[43mfollow_symlinks\u001b[49m\u001b[38;5;241;43m=\u001b[39;49m\u001b[43mfollow_symlinks\u001b[49m\u001b[43m)\u001b[49m\n\u001b[0;32m    449\u001b[0m copystat(src, dst, follow_symlinks\u001b[38;5;241m=\u001b[39mfollow_symlinks)\n\u001b[0;32m    450\u001b[0m \u001b[38;5;28;01mreturn\u001b[39;00m dst\n",
      "File \u001b[1;32mc:\\Users\\Willson\\anaconda3\\envs\\ml\\Lib\\shutil.py:256\u001b[0m, in \u001b[0;36mcopyfile\u001b[1;34m(src, dst, follow_symlinks)\u001b[0m\n\u001b[0;32m    254\u001b[0m     os\u001b[38;5;241m.\u001b[39msymlink(os\u001b[38;5;241m.\u001b[39mreadlink(src), dst)\n\u001b[0;32m    255\u001b[0m \u001b[38;5;28;01melse\u001b[39;00m:\n\u001b[1;32m--> 256\u001b[0m     \u001b[38;5;28;01mwith\u001b[39;00m \u001b[38;5;28mopen\u001b[39m(src, \u001b[38;5;124m'\u001b[39m\u001b[38;5;124mrb\u001b[39m\u001b[38;5;124m'\u001b[39m) \u001b[38;5;28;01mas\u001b[39;00m fsrc:\n\u001b[0;32m    257\u001b[0m         \u001b[38;5;28;01mtry\u001b[39;00m:\n\u001b[0;32m    258\u001b[0m             \u001b[38;5;28;01mwith\u001b[39;00m \u001b[38;5;28mopen\u001b[39m(dst, \u001b[38;5;124m'\u001b[39m\u001b[38;5;124mwb\u001b[39m\u001b[38;5;124m'\u001b[39m) \u001b[38;5;28;01mas\u001b[39;00m fdst:\n\u001b[0;32m    259\u001b[0m                 \u001b[38;5;66;03m# macOS\u001b[39;00m\n",
      "\u001b[1;31mKeyboardInterrupt\u001b[0m: "
     ]
    }
   ],
   "source": [
    "# Split into training, validation sets\n",
    "\n",
    "import os\n",
    "import shutil\n",
    "import random\n",
    "from pathlib import Path\n",
    "\n",
    "# Parameters\n",
    "data_dir = 'c:/Users/Willson/Documents/shouldiwearit/data/clothing/polyvore/pv_images'  # The root directory containing your category folders\n",
    "output_dir = 'c:/Users/Willson/Documents/shouldiwearit/data/clothing/polyvore/pv_images_split'   # The directory where the split dataset will be stored\n",
    "val_split = 0.2                 # Proportion of the dataset to include in the validation split\n",
    "subset_fraction = 0.1\n",
    "\n",
    "# Ensure the output directories exist\n",
    "train_dir = os.path.join(output_dir, 'train')\n",
    "val_dir = os.path.join(output_dir, 'val')\n",
    "\n",
    "os.makedirs(train_dir, exist_ok=True)\n",
    "os.makedirs(val_dir, exist_ok=True)\n",
    "\n",
    "# Function to split the dataset\n",
    "def split_dataset(data_dir, train_dir, val_dir, val_split):\n",
    "    categories = [d for d in os.listdir(data_dir) if os.path.isdir(os.path.join(data_dir, d))]\n",
    "    \n",
    "    for category in categories:\n",
    "        category_path = os.path.join(data_dir, category)\n",
    "        images = [f for f in os.listdir(category_path) if os.path.isfile(os.path.join(category_path, f))]\n",
    "        \n",
    "        # Create subset\n",
    "        subset_size = int(len(images) * subset_fraction)\n",
    "        subset_images = random.sample(images, subset_size)\n",
    "\n",
    "        # Split into training and validation sets\n",
    "        val_size = int(len(subset_images) * val_split)\n",
    "        train_images = subset_images[val_size:]\n",
    "        val_images = subset_images[:val_size]\n",
    "        \n",
    "        train_category_dir = os.path.join(train_dir, category)\n",
    "        val_category_dir = os.path.join(val_dir, category)\n",
    "        \n",
    "        os.makedirs(train_category_dir, exist_ok=True)\n",
    "        os.makedirs(val_category_dir, exist_ok=True)\n",
    "        \n",
    "        for img in train_images:\n",
    "            shutil.copy2(os.path.join(category_path, img), os.path.join(train_category_dir, img))\n",
    "        \n",
    "        for img in val_images:\n",
    "            shutil.copy2(os.path.join(category_path, img), os.path.join(val_category_dir, img))\n",
    "        \n",
    "        print(f'Category: {category}')\n",
    "        print(f'Total images: {len(images)}')\n",
    "        print(f'Training images: {len(train_images)}')\n",
    "        print(f'Validation images: {len(val_images)}')\n",
    "\n",
    "# Execute the split\n",
    "split_dataset(data_dir, train_dir, val_dir, val_split)\n"
   ]
  },
  {
   "cell_type": "code",
   "execution_count": 88,
   "metadata": {},
   "outputs": [
    {
     "name": "stdout",
     "output_type": "stream",
     "text": [
      "Category: bag\n",
      "Total images: 1702\n",
      "Subset images: 170\n",
      "Category: bracelet\n",
      "Total images: 414\n",
      "Subset images: 41\n",
      "Category: brooch\n",
      "Total images: 80\n",
      "Subset images: 10\n",
      "Category: dress\n",
      "Total images: 599\n",
      "Subset images: 59\n",
      "Category: earrings\n",
      "Total images: 440\n",
      "Subset images: 44\n",
      "Category: eyewear\n",
      "Total images: 535\n",
      "Subset images: 53\n",
      "Category: gloves\n",
      "Total images: 31\n",
      "Subset images: 10\n",
      "Category: hairwear\n",
      "Total images: 56\n",
      "Subset images: 10\n",
      "Category: hats\n",
      "Total images: 233\n",
      "Subset images: 23\n",
      "Category: jumpsuit\n",
      "Total images: 24\n",
      "Subset images: 10\n",
      "Category: legwear\n",
      "Total images: 16\n",
      "Subset images: 10\n",
      "Category: necklace\n",
      "Total images: 373\n",
      "Subset images: 37\n",
      "Category: neckwear\n",
      "Total images: 96\n",
      "Subset images: 10\n",
      "Category: outwear\n",
      "Total images: 814\n",
      "Subset images: 81\n",
      "Category: pants\n",
      "Total images: 716\n",
      "Subset images: 71\n",
      "Category: rings\n",
      "Total images: 258\n",
      "Subset images: 25\n",
      "Category: shoes\n",
      "Total images: 1611\n",
      "Subset images: 161\n",
      "Category: skirt\n",
      "Total images: 424\n",
      "Subset images: 42\n",
      "Category: top\n",
      "Total images: 1552\n",
      "Subset images: 155\n",
      "Category: watches\n",
      "Total images: 184\n",
      "Subset images: 18\n",
      "Category: bag\n",
      "Total images: 425\n",
      "Subset images: 42\n",
      "Category: bracelet\n",
      "Total images: 103\n",
      "Subset images: 10\n",
      "Category: brooch\n",
      "Total images: 19\n",
      "Subset images: 10\n",
      "Category: dress\n",
      "Total images: 149\n",
      "Subset images: 14\n",
      "Category: earrings\n",
      "Total images: 110\n",
      "Subset images: 11\n",
      "Category: eyewear\n",
      "Total images: 133\n",
      "Subset images: 13\n",
      "Category: gloves\n",
      "Total images: 7\n",
      "Subset images: 7\n",
      "Category: hairwear\n",
      "Total images: 13\n",
      "Subset images: 10\n",
      "Category: hats\n",
      "Total images: 58\n",
      "Subset images: 10\n",
      "Category: jumpsuit\n",
      "Total images: 5\n",
      "Subset images: 5\n",
      "Category: legwear\n",
      "Total images: 4\n",
      "Subset images: 4\n",
      "Category: necklace\n",
      "Total images: 93\n",
      "Subset images: 10\n",
      "Category: neckwear\n",
      "Total images: 23\n",
      "Subset images: 10\n",
      "Category: outwear\n",
      "Total images: 203\n",
      "Subset images: 20\n",
      "Category: pants\n",
      "Total images: 179\n",
      "Subset images: 17\n",
      "Category: rings\n",
      "Total images: 64\n",
      "Subset images: 10\n",
      "Category: shoes\n",
      "Total images: 402\n",
      "Subset images: 40\n",
      "Category: skirt\n",
      "Total images: 106\n",
      "Subset images: 10\n",
      "Category: top\n",
      "Total images: 387\n",
      "Subset images: 38\n",
      "Category: watches\n",
      "Total images: 45\n",
      "Subset images: 10\n"
     ]
    }
   ],
   "source": [
    "# Reduce the number of samples for faster training\n",
    "import shutil\n",
    "import random\n",
    "\n",
    "# Parameters\n",
    "data_dir = 'c:/Users/Willson/Documents/shouldiwearit/data/clothing/polyvore/pv_images_split'  # The root directory containing your current train/val folders\n",
    "output_dir = 'c:/Users/Willson/Documents/shouldiwearit/data/clothing/polyvore/pv_images_split_smaller'  # The directory where the further subset dataset will be stored\n",
    "subset_fraction = 0.1              # Fraction of the dataset to include in the further subset\n",
    "min_samples = 10\n",
    "\n",
    "# Function to create a further subset of the existing training and validation sets\n",
    "def create_further_subset(data_dir, output_dir, subset_fraction):\n",
    "    # Define paths for current training and validation data\n",
    "    current_train_dir = os.path.join(data_dir, 'train')\n",
    "    current_val_dir = os.path.join(data_dir, 'val')\n",
    "\n",
    "    # Define paths for new training and validation data\n",
    "    new_train_dir = os.path.join(output_dir, 'train')\n",
    "    new_val_dir = os.path.join(output_dir, 'val')\n",
    "\n",
    "    os.makedirs(new_train_dir, exist_ok=True)\n",
    "    os.makedirs(new_val_dir, exist_ok=True)\n",
    "\n",
    "    # Function to process each category\n",
    "    def process_category(category, current_dir, new_dir):\n",
    "        category_path = os.path.join(current_dir, category)\n",
    "        if not os.path.isdir(category_path):\n",
    "            return\n",
    "        \n",
    "        images = [f for f in os.listdir(category_path) if os.path.isfile(os.path.join(category_path, f))]\n",
    "        \n",
    "        # Create further subset\n",
    "        subset_size = max(int(len(images) * subset_fraction), min_samples)\n",
    "        subset_size = min(subset_size, len(images))  # Ensure we don't select more images than available\n",
    "        subset_images = random.sample(images, subset_size)\n",
    "\n",
    "        new_category_dir = os.path.join(new_dir, category)\n",
    "        os.makedirs(new_category_dir, exist_ok=True)\n",
    "\n",
    "        for img in subset_images:\n",
    "            shutil.copy2(os.path.join(category_path, img), os.path.join(new_category_dir, img))\n",
    "        \n",
    "        print(f'Category: {category}')\n",
    "        print(f'Total images: {len(images)}')\n",
    "        print(f'Subset images: {len(subset_images)}')\n",
    "\n",
    "    # Process all categories in both training and validation sets\n",
    "    categories = os.listdir(current_train_dir)\n",
    "    for category in categories:\n",
    "        process_category(category, current_train_dir, new_train_dir)\n",
    "    \n",
    "    categories = os.listdir(current_val_dir)\n",
    "    for category in categories:\n",
    "        process_category(category, current_val_dir, new_val_dir)\n",
    "\n",
    "# Execute the further subset creation\n",
    "create_further_subset(data_dir, output_dir, subset_fraction)"
   ]
  },
  {
   "cell_type": "markdown",
   "metadata": {
    "id": "7QWTn5A-Ep-W"
   },
   "source": [
    "IMAGE PREPROCESSING\n",
    "\n",
    "Resizing down to 256x256 size, or maybe smaller, depending on training speed and quality"
   ]
  },
  {
   "cell_type": "markdown",
   "metadata": {
    "id": "N7VhxdyrHnr5"
   },
   "source": [
    "VISION TRANSFORMER ENCODER - pre trained model"
   ]
  },
  {
   "cell_type": "code",
   "execution_count": 22,
   "metadata": {
    "id": "46-8WHqOHnIE"
   },
   "outputs": [
    {
     "name": "stdout",
     "output_type": "stream",
     "text": [
      "Using device: cuda\n"
     ]
    },
    {
     "data": {
      "text/plain": [
       "ViTForImageClassification(\n",
       "  (vit): ViTModel(\n",
       "    (embeddings): ViTEmbeddings(\n",
       "      (patch_embeddings): ViTPatchEmbeddings(\n",
       "        (projection): Conv2d(3, 768, kernel_size=(16, 16), stride=(16, 16))\n",
       "      )\n",
       "      (dropout): Dropout(p=0.0, inplace=False)\n",
       "    )\n",
       "    (encoder): ViTEncoder(\n",
       "      (layer): ModuleList(\n",
       "        (0-11): 12 x ViTLayer(\n",
       "          (attention): ViTSdpaAttention(\n",
       "            (attention): ViTSdpaSelfAttention(\n",
       "              (query): Linear(in_features=768, out_features=768, bias=True)\n",
       "              (key): Linear(in_features=768, out_features=768, bias=True)\n",
       "              (value): Linear(in_features=768, out_features=768, bias=True)\n",
       "              (dropout): Dropout(p=0.0, inplace=False)\n",
       "            )\n",
       "            (output): ViTSelfOutput(\n",
       "              (dense): Linear(in_features=768, out_features=768, bias=True)\n",
       "              (dropout): Dropout(p=0.0, inplace=False)\n",
       "            )\n",
       "          )\n",
       "          (intermediate): ViTIntermediate(\n",
       "            (dense): Linear(in_features=768, out_features=3072, bias=True)\n",
       "            (intermediate_act_fn): GELUActivation()\n",
       "          )\n",
       "          (output): ViTOutput(\n",
       "            (dense): Linear(in_features=3072, out_features=768, bias=True)\n",
       "            (dropout): Dropout(p=0.0, inplace=False)\n",
       "          )\n",
       "          (layernorm_before): LayerNorm((768,), eps=1e-12, elementwise_affine=True)\n",
       "          (layernorm_after): LayerNorm((768,), eps=1e-12, elementwise_affine=True)\n",
       "        )\n",
       "      )\n",
       "    )\n",
       "    (layernorm): LayerNorm((768,), eps=1e-12, elementwise_affine=True)\n",
       "  )\n",
       "  (classifier): Linear(in_features=768, out_features=20, bias=True)\n",
       ")"
      ]
     },
     "execution_count": 22,
     "metadata": {},
     "output_type": "execute_result"
    }
   ],
   "source": [
    "from transformers import ViTForImageClassification, ViTFeatureExtractor, TrainingArguments, Trainer\n",
    "\n",
    "# Load pre-trained ViT, feature extractor\n",
    "model_name = \"google/vit-base-patch16-224\"\n",
    "model = ViTForImageClassification.from_pretrained(model_name)\n",
    "feature_extractor = ViTFeatureExtractor.from_pretrained(model_name)\n",
    "\n",
    "# !!!! On top of pre-trained, add another layer for our n labels\n",
    "num_classes = len(os.listdir(directory))\n",
    "model.config.num_labels = num_classes\n",
    "model.classifier = torch.nn.Linear(model.config.hidden_size, num_classes)\n",
    "# print(model.config)\n",
    "\n",
    "# Check if CUDA is available\n",
    "device = torch.device('cuda' if torch.cuda.is_available() else 'cpu')\n",
    "print(\"Using device:\", device)\n",
    "model.to(device)"
   ]
  },
  {
   "cell_type": "markdown",
   "metadata": {
    "id": "o5CTjrshFCZF"
   },
   "source": [
    "# TRAINING V1 - IGNORE\n",
    "\n",
    "Output to 1000 classes as pre-trained, did not adjust for our dataset"
   ]
  },
  {
   "cell_type": "code",
   "execution_count": 10,
   "metadata": {
    "id": "zEGSoxXZFB-F"
   },
   "outputs": [],
   "source": [
    "# Hyperparameters\n",
    "batch_size = 32\n",
    "num_epochs = 5\n",
    "learning_rate = 5e-5\n",
    "\n",
    "# Data processing\n",
    "transform = transforms.Compose([\n",
    "    transforms.Resize((224, 224)),\n",
    "    transforms.ToTensor(),\n",
    "    # transforms.Normalize(mean=[0.485, 0.456, 0.406], std=[0.229, 0.224, 0.225])\n",
    "])\n",
    "\n",
    "# Load datasets, DataLoaders\n",
    "data_dir = 'c:/Users/Willson/Documents/shouldiwearit/data/clothing/polyvore/pv_images_split_smaller'\n",
    "train_dataset = datasets.ImageFolder(root=os.path.join(data_dir, 'train'), transform=transform)\n",
    "val_dataset = datasets.ImageFolder(root=os.path.join(data_dir, 'val'), transform=transform)\n",
    "train_loader = DataLoader(train_dataset, batch_size=batch_size, shuffle=True)\n",
    "val_loader = DataLoader(val_dataset, batch_size=batch_size, shuffle=False)\n",
    "\n",
    "# Convert for transformers\n",
    "class ImageDataset(Dataset):\n",
    "    def __init__(self, image_folder):\n",
    "        self.image_folder = image_folder\n",
    "        self.feature_extractor = feature_extractor\n",
    "\n",
    "    def __len__(self):\n",
    "        return len(self.image_folder)\n",
    "\n",
    "    def __getitem__(self, idx):\n",
    "        image, label = self.image_folder[idx]\n",
    "        image = self.feature_extractor(images=image, return_tensors=\"pt\")['pixel_values'][0]\n",
    "        return {'pixel_values': image, 'labels': label}\n",
    "\n",
    "train_dataset = ImageDataset(train_dataset)\n",
    "val_dataset = ImageDataset(val_dataset)"
   ]
  },
  {
   "cell_type": "code",
   "execution_count": 11,
   "metadata": {},
   "outputs": [
    {
     "name": "stderr",
     "output_type": "stream",
     "text": [
      "  0%|          | 0/330 [02:09<?, ?it/s]\n"
     ]
    },
    {
     "ename": "RuntimeError",
     "evalue": "shape '[-1, 1000]' is invalid for input of size 640",
     "output_type": "error",
     "traceback": [
      "\u001b[1;31m---------------------------------------------------------------------------\u001b[0m",
      "\u001b[1;31mRuntimeError\u001b[0m                              Traceback (most recent call last)",
      "Cell \u001b[1;32mIn[11], line 20\u001b[0m\n\u001b[0;32m      2\u001b[0m training_args \u001b[38;5;241m=\u001b[39m TrainingArguments(\n\u001b[0;32m      3\u001b[0m     output_dir\u001b[38;5;241m=\u001b[39mos\u001b[38;5;241m.\u001b[39mpath\u001b[38;5;241m.\u001b[39mjoin(data_dir, \u001b[38;5;124m'\u001b[39m\u001b[38;5;124mresults\u001b[39m\u001b[38;5;124m'\u001b[39m),\n\u001b[0;32m      4\u001b[0m     num_train_epochs\u001b[38;5;241m=\u001b[39mnum_epochs,\n\u001b[1;32m   (...)\u001b[0m\n\u001b[0;32m      9\u001b[0m     save_strategy\u001b[38;5;241m=\u001b[39m\u001b[38;5;124m\"\u001b[39m\u001b[38;5;124mepoch\u001b[39m\u001b[38;5;124m\"\u001b[39m\n\u001b[0;32m     10\u001b[0m )\n\u001b[0;32m     12\u001b[0m trainer \u001b[38;5;241m=\u001b[39m Trainer(\n\u001b[0;32m     13\u001b[0m     model\u001b[38;5;241m=\u001b[39mmodel,\n\u001b[0;32m     14\u001b[0m     args\u001b[38;5;241m=\u001b[39mtraining_args,\n\u001b[1;32m   (...)\u001b[0m\n\u001b[0;32m     17\u001b[0m     tokenizer\u001b[38;5;241m=\u001b[39mfeature_extractor\n\u001b[0;32m     18\u001b[0m )\n\u001b[1;32m---> 20\u001b[0m \u001b[43mtrainer\u001b[49m\u001b[38;5;241;43m.\u001b[39;49m\u001b[43mtrain\u001b[49m\u001b[43m(\u001b[49m\u001b[43m)\u001b[49m\n\u001b[0;32m     22\u001b[0m model\u001b[38;5;241m.\u001b[39msave_pretrained(\u001b[38;5;124m'\u001b[39m\u001b[38;5;124mdevito\u001b[39m\u001b[38;5;124m'\u001b[39m)\n\u001b[0;32m     23\u001b[0m feature_extractor\u001b[38;5;241m.\u001b[39msave_pretrained(\u001b[38;5;124m'\u001b[39m\u001b[38;5;124mdevito\u001b[39m\u001b[38;5;124m'\u001b[39m)\n",
      "File \u001b[1;32mc:\\Users\\Willson\\anaconda3\\envs\\ml\\Lib\\site-packages\\transformers\\trainer.py:1885\u001b[0m, in \u001b[0;36mTrainer.train\u001b[1;34m(self, resume_from_checkpoint, trial, ignore_keys_for_eval, **kwargs)\u001b[0m\n\u001b[0;32m   1883\u001b[0m         hf_hub_utils\u001b[38;5;241m.\u001b[39menable_progress_bars()\n\u001b[0;32m   1884\u001b[0m \u001b[38;5;28;01melse\u001b[39;00m:\n\u001b[1;32m-> 1885\u001b[0m     \u001b[38;5;28;01mreturn\u001b[39;00m \u001b[43minner_training_loop\u001b[49m\u001b[43m(\u001b[49m\n\u001b[0;32m   1886\u001b[0m \u001b[43m        \u001b[49m\u001b[43margs\u001b[49m\u001b[38;5;241;43m=\u001b[39;49m\u001b[43margs\u001b[49m\u001b[43m,\u001b[49m\n\u001b[0;32m   1887\u001b[0m \u001b[43m        \u001b[49m\u001b[43mresume_from_checkpoint\u001b[49m\u001b[38;5;241;43m=\u001b[39;49m\u001b[43mresume_from_checkpoint\u001b[49m\u001b[43m,\u001b[49m\n\u001b[0;32m   1888\u001b[0m \u001b[43m        \u001b[49m\u001b[43mtrial\u001b[49m\u001b[38;5;241;43m=\u001b[39;49m\u001b[43mtrial\u001b[49m\u001b[43m,\u001b[49m\n\u001b[0;32m   1889\u001b[0m \u001b[43m        \u001b[49m\u001b[43mignore_keys_for_eval\u001b[49m\u001b[38;5;241;43m=\u001b[39;49m\u001b[43mignore_keys_for_eval\u001b[49m\u001b[43m,\u001b[49m\n\u001b[0;32m   1890\u001b[0m \u001b[43m    \u001b[49m\u001b[43m)\u001b[49m\n",
      "File \u001b[1;32mc:\\Users\\Willson\\anaconda3\\envs\\ml\\Lib\\site-packages\\transformers\\trainer.py:2216\u001b[0m, in \u001b[0;36mTrainer._inner_training_loop\u001b[1;34m(self, batch_size, args, resume_from_checkpoint, trial, ignore_keys_for_eval)\u001b[0m\n\u001b[0;32m   2213\u001b[0m     \u001b[38;5;28mself\u001b[39m\u001b[38;5;241m.\u001b[39mcontrol \u001b[38;5;241m=\u001b[39m \u001b[38;5;28mself\u001b[39m\u001b[38;5;241m.\u001b[39mcallback_handler\u001b[38;5;241m.\u001b[39mon_step_begin(args, \u001b[38;5;28mself\u001b[39m\u001b[38;5;241m.\u001b[39mstate, \u001b[38;5;28mself\u001b[39m\u001b[38;5;241m.\u001b[39mcontrol)\n\u001b[0;32m   2215\u001b[0m \u001b[38;5;28;01mwith\u001b[39;00m \u001b[38;5;28mself\u001b[39m\u001b[38;5;241m.\u001b[39maccelerator\u001b[38;5;241m.\u001b[39maccumulate(model):\n\u001b[1;32m-> 2216\u001b[0m     tr_loss_step \u001b[38;5;241m=\u001b[39m \u001b[38;5;28;43mself\u001b[39;49m\u001b[38;5;241;43m.\u001b[39;49m\u001b[43mtraining_step\u001b[49m\u001b[43m(\u001b[49m\u001b[43mmodel\u001b[49m\u001b[43m,\u001b[49m\u001b[43m \u001b[49m\u001b[43minputs\u001b[49m\u001b[43m)\u001b[49m\n\u001b[0;32m   2218\u001b[0m \u001b[38;5;28;01mif\u001b[39;00m (\n\u001b[0;32m   2219\u001b[0m     args\u001b[38;5;241m.\u001b[39mlogging_nan_inf_filter\n\u001b[0;32m   2220\u001b[0m     \u001b[38;5;129;01mand\u001b[39;00m \u001b[38;5;129;01mnot\u001b[39;00m is_torch_xla_available()\n\u001b[0;32m   2221\u001b[0m     \u001b[38;5;129;01mand\u001b[39;00m (torch\u001b[38;5;241m.\u001b[39misnan(tr_loss_step) \u001b[38;5;129;01mor\u001b[39;00m torch\u001b[38;5;241m.\u001b[39misinf(tr_loss_step))\n\u001b[0;32m   2222\u001b[0m ):\n\u001b[0;32m   2223\u001b[0m     \u001b[38;5;66;03m# if loss is nan or inf simply add the average of previous logged losses\u001b[39;00m\n\u001b[0;32m   2224\u001b[0m     tr_loss \u001b[38;5;241m+\u001b[39m\u001b[38;5;241m=\u001b[39m tr_loss \u001b[38;5;241m/\u001b[39m (\u001b[38;5;241m1\u001b[39m \u001b[38;5;241m+\u001b[39m \u001b[38;5;28mself\u001b[39m\u001b[38;5;241m.\u001b[39mstate\u001b[38;5;241m.\u001b[39mglobal_step \u001b[38;5;241m-\u001b[39m \u001b[38;5;28mself\u001b[39m\u001b[38;5;241m.\u001b[39m_globalstep_last_logged)\n",
      "File \u001b[1;32mc:\\Users\\Willson\\anaconda3\\envs\\ml\\Lib\\site-packages\\transformers\\trainer.py:3238\u001b[0m, in \u001b[0;36mTrainer.training_step\u001b[1;34m(self, model, inputs)\u001b[0m\n\u001b[0;32m   3235\u001b[0m     \u001b[38;5;28;01mreturn\u001b[39;00m loss_mb\u001b[38;5;241m.\u001b[39mreduce_mean()\u001b[38;5;241m.\u001b[39mdetach()\u001b[38;5;241m.\u001b[39mto(\u001b[38;5;28mself\u001b[39m\u001b[38;5;241m.\u001b[39margs\u001b[38;5;241m.\u001b[39mdevice)\n\u001b[0;32m   3237\u001b[0m \u001b[38;5;28;01mwith\u001b[39;00m \u001b[38;5;28mself\u001b[39m\u001b[38;5;241m.\u001b[39mcompute_loss_context_manager():\n\u001b[1;32m-> 3238\u001b[0m     loss \u001b[38;5;241m=\u001b[39m \u001b[38;5;28;43mself\u001b[39;49m\u001b[38;5;241;43m.\u001b[39;49m\u001b[43mcompute_loss\u001b[49m\u001b[43m(\u001b[49m\u001b[43mmodel\u001b[49m\u001b[43m,\u001b[49m\u001b[43m \u001b[49m\u001b[43minputs\u001b[49m\u001b[43m)\u001b[49m\n\u001b[0;32m   3240\u001b[0m \u001b[38;5;28;01mdel\u001b[39;00m inputs\n\u001b[0;32m   3241\u001b[0m torch\u001b[38;5;241m.\u001b[39mcuda\u001b[38;5;241m.\u001b[39mempty_cache()\n",
      "File \u001b[1;32mc:\\Users\\Willson\\anaconda3\\envs\\ml\\Lib\\site-packages\\transformers\\trainer.py:3264\u001b[0m, in \u001b[0;36mTrainer.compute_loss\u001b[1;34m(self, model, inputs, return_outputs)\u001b[0m\n\u001b[0;32m   3262\u001b[0m \u001b[38;5;28;01melse\u001b[39;00m:\n\u001b[0;32m   3263\u001b[0m     labels \u001b[38;5;241m=\u001b[39m \u001b[38;5;28;01mNone\u001b[39;00m\n\u001b[1;32m-> 3264\u001b[0m outputs \u001b[38;5;241m=\u001b[39m \u001b[43mmodel\u001b[49m\u001b[43m(\u001b[49m\u001b[38;5;241;43m*\u001b[39;49m\u001b[38;5;241;43m*\u001b[39;49m\u001b[43minputs\u001b[49m\u001b[43m)\u001b[49m\n\u001b[0;32m   3265\u001b[0m \u001b[38;5;66;03m# Save past state if it exists\u001b[39;00m\n\u001b[0;32m   3266\u001b[0m \u001b[38;5;66;03m# TODO: this needs to be fixed and made cleaner later.\u001b[39;00m\n\u001b[0;32m   3267\u001b[0m \u001b[38;5;28;01mif\u001b[39;00m \u001b[38;5;28mself\u001b[39m\u001b[38;5;241m.\u001b[39margs\u001b[38;5;241m.\u001b[39mpast_index \u001b[38;5;241m>\u001b[39m\u001b[38;5;241m=\u001b[39m \u001b[38;5;241m0\u001b[39m:\n",
      "File \u001b[1;32mc:\\Users\\Willson\\anaconda3\\envs\\ml\\Lib\\site-packages\\torch\\nn\\modules\\module.py:1532\u001b[0m, in \u001b[0;36mModule._wrapped_call_impl\u001b[1;34m(self, *args, **kwargs)\u001b[0m\n\u001b[0;32m   1530\u001b[0m     \u001b[38;5;28;01mreturn\u001b[39;00m \u001b[38;5;28mself\u001b[39m\u001b[38;5;241m.\u001b[39m_compiled_call_impl(\u001b[38;5;241m*\u001b[39margs, \u001b[38;5;241m*\u001b[39m\u001b[38;5;241m*\u001b[39mkwargs)  \u001b[38;5;66;03m# type: ignore[misc]\u001b[39;00m\n\u001b[0;32m   1531\u001b[0m \u001b[38;5;28;01melse\u001b[39;00m:\n\u001b[1;32m-> 1532\u001b[0m     \u001b[38;5;28;01mreturn\u001b[39;00m \u001b[38;5;28;43mself\u001b[39;49m\u001b[38;5;241;43m.\u001b[39;49m\u001b[43m_call_impl\u001b[49m\u001b[43m(\u001b[49m\u001b[38;5;241;43m*\u001b[39;49m\u001b[43margs\u001b[49m\u001b[43m,\u001b[49m\u001b[43m \u001b[49m\u001b[38;5;241;43m*\u001b[39;49m\u001b[38;5;241;43m*\u001b[39;49m\u001b[43mkwargs\u001b[49m\u001b[43m)\u001b[49m\n",
      "File \u001b[1;32mc:\\Users\\Willson\\anaconda3\\envs\\ml\\Lib\\site-packages\\torch\\nn\\modules\\module.py:1541\u001b[0m, in \u001b[0;36mModule._call_impl\u001b[1;34m(self, *args, **kwargs)\u001b[0m\n\u001b[0;32m   1536\u001b[0m \u001b[38;5;66;03m# If we don't have any hooks, we want to skip the rest of the logic in\u001b[39;00m\n\u001b[0;32m   1537\u001b[0m \u001b[38;5;66;03m# this function, and just call forward.\u001b[39;00m\n\u001b[0;32m   1538\u001b[0m \u001b[38;5;28;01mif\u001b[39;00m \u001b[38;5;129;01mnot\u001b[39;00m (\u001b[38;5;28mself\u001b[39m\u001b[38;5;241m.\u001b[39m_backward_hooks \u001b[38;5;129;01mor\u001b[39;00m \u001b[38;5;28mself\u001b[39m\u001b[38;5;241m.\u001b[39m_backward_pre_hooks \u001b[38;5;129;01mor\u001b[39;00m \u001b[38;5;28mself\u001b[39m\u001b[38;5;241m.\u001b[39m_forward_hooks \u001b[38;5;129;01mor\u001b[39;00m \u001b[38;5;28mself\u001b[39m\u001b[38;5;241m.\u001b[39m_forward_pre_hooks\n\u001b[0;32m   1539\u001b[0m         \u001b[38;5;129;01mor\u001b[39;00m _global_backward_pre_hooks \u001b[38;5;129;01mor\u001b[39;00m _global_backward_hooks\n\u001b[0;32m   1540\u001b[0m         \u001b[38;5;129;01mor\u001b[39;00m _global_forward_hooks \u001b[38;5;129;01mor\u001b[39;00m _global_forward_pre_hooks):\n\u001b[1;32m-> 1541\u001b[0m     \u001b[38;5;28;01mreturn\u001b[39;00m \u001b[43mforward_call\u001b[49m\u001b[43m(\u001b[49m\u001b[38;5;241;43m*\u001b[39;49m\u001b[43margs\u001b[49m\u001b[43m,\u001b[49m\u001b[43m \u001b[49m\u001b[38;5;241;43m*\u001b[39;49m\u001b[38;5;241;43m*\u001b[39;49m\u001b[43mkwargs\u001b[49m\u001b[43m)\u001b[49m\n\u001b[0;32m   1543\u001b[0m \u001b[38;5;28;01mtry\u001b[39;00m:\n\u001b[0;32m   1544\u001b[0m     result \u001b[38;5;241m=\u001b[39m \u001b[38;5;28;01mNone\u001b[39;00m\n",
      "File \u001b[1;32mc:\\Users\\Willson\\anaconda3\\envs\\ml\\Lib\\site-packages\\transformers\\models\\vit\\modeling_vit.py:865\u001b[0m, in \u001b[0;36mViTForImageClassification.forward\u001b[1;34m(self, pixel_values, head_mask, labels, output_attentions, output_hidden_states, interpolate_pos_encoding, return_dict)\u001b[0m\n\u001b[0;32m    863\u001b[0m \u001b[38;5;28;01melif\u001b[39;00m \u001b[38;5;28mself\u001b[39m\u001b[38;5;241m.\u001b[39mconfig\u001b[38;5;241m.\u001b[39mproblem_type \u001b[38;5;241m==\u001b[39m \u001b[38;5;124m\"\u001b[39m\u001b[38;5;124msingle_label_classification\u001b[39m\u001b[38;5;124m\"\u001b[39m:\n\u001b[0;32m    864\u001b[0m     loss_fct \u001b[38;5;241m=\u001b[39m CrossEntropyLoss()\n\u001b[1;32m--> 865\u001b[0m     loss \u001b[38;5;241m=\u001b[39m loss_fct(\u001b[43mlogits\u001b[49m\u001b[38;5;241;43m.\u001b[39;49m\u001b[43mview\u001b[49m\u001b[43m(\u001b[49m\u001b[38;5;241;43m-\u001b[39;49m\u001b[38;5;241;43m1\u001b[39;49m\u001b[43m,\u001b[49m\u001b[43m \u001b[49m\u001b[38;5;28;43mself\u001b[39;49m\u001b[38;5;241;43m.\u001b[39;49m\u001b[43mnum_labels\u001b[49m\u001b[43m)\u001b[49m, labels\u001b[38;5;241m.\u001b[39mview(\u001b[38;5;241m-\u001b[39m\u001b[38;5;241m1\u001b[39m))\n\u001b[0;32m    866\u001b[0m \u001b[38;5;28;01melif\u001b[39;00m \u001b[38;5;28mself\u001b[39m\u001b[38;5;241m.\u001b[39mconfig\u001b[38;5;241m.\u001b[39mproblem_type \u001b[38;5;241m==\u001b[39m \u001b[38;5;124m\"\u001b[39m\u001b[38;5;124mmulti_label_classification\u001b[39m\u001b[38;5;124m\"\u001b[39m:\n\u001b[0;32m    867\u001b[0m     loss_fct \u001b[38;5;241m=\u001b[39m BCEWithLogitsLoss()\n",
      "\u001b[1;31mRuntimeError\u001b[0m: shape '[-1, 1000]' is invalid for input of size 640"
     ]
    }
   ],
   "source": [
    "# Train\n",
    "training_args = TrainingArguments(\n",
    "    output_dir=os.path.join(data_dir, 'results'),\n",
    "    num_train_epochs=num_epochs,\n",
    "    per_device_train_batch_size=batch_size,\n",
    "    per_device_eval_batch_size=batch_size,\n",
    "    learning_rate=learning_rate,\n",
    "    eval_strategy=\"epoch\",\n",
    "    save_strategy=\"epoch\"\n",
    ")\n",
    "\n",
    "trainer = Trainer(\n",
    "    model=model,\n",
    "    args=training_args,\n",
    "    train_dataset=train_dataset,\n",
    "    eval_dataset=val_dataset,\n",
    "    tokenizer=feature_extractor\n",
    ")\n",
    "\n",
    "trainer.train()\n",
    "\n",
    "model.save_pretrained('devito')\n",
    "feature_extractor.save_pretrained('devito')"
   ]
  },
  {
   "cell_type": "code",
   "execution_count": 19,
   "metadata": {},
   "outputs": [
    {
     "data": {
      "text/plain": [
       "1000"
      ]
     },
     "execution_count": 19,
     "metadata": {},
     "output_type": "execute_result"
    }
   ],
   "source": [
    "# Evaluation\n",
    "from PIL import Image\n",
    "\n",
    "# Load our model and feature extractor\n",
    "our_model = ViTForImageClassification.from_pretrained('devito')\n",
    "our_feature_extractor = ViTFeatureExtractor.from_pretrained('devito')\n",
    "\n",
    "# Predict\n",
    "def predict(image_path):\n",
    "    image = Image.open(image_path).convert('RGB')\n",
    "    inputs = our_feature_extractor(images=image, return_tensors=\"pt\")\n",
    "    outputs = our_model(**inputs)\n",
    "    logits = outputs.logits\n",
    "    predicted_class_idx = logits.argmax(-1).item()\n",
    "    return train_dataset.image_folder.classes[predicted_class_idx]\n",
    "\n",
    "# Predict on a new image\n",
    "image_path = 'c:/Users/Willson/Documents/shouldiwearit/data/clothing/polyvore/pv_images/gloves/5598757_14.jpg'\n",
    "# predicted_class = predict(image_path)\n",
    "# print(f'Predicted class: {predicted_class}')\n",
    "\n",
    "image = Image.open(image_path).convert('RGB')\n",
    "inputs = our_feature_extractor(images=image, return_tensors=\"pt\")\n",
    "outputs = our_model(**inputs)\n",
    "logits = outputs.logits\n",
    "\n",
    "len(logits[0])"
   ]
  },
  {
   "cell_type": "markdown",
   "metadata": {},
   "source": [
    "# TRAINING V2"
   ]
  },
  {
   "cell_type": "code",
   "execution_count": 9,
   "metadata": {},
   "outputs": [],
   "source": [
    "# DEPENDENCIES\n",
    "\n",
    "import torch\n",
    "import torch.nn as nn\n",
    "from transformers import ViTFeatureExtractor, ViTForImageClassification\n",
    "import torchvision.transforms as transforms\n",
    "from torch.utils.data import DataLoader, random_split\n",
    "from torchvision.datasets import ImageFolder\n",
    "from PIL import Image\n",
    "import os"
   ]
  },
  {
   "cell_type": "code",
   "execution_count": 1,
   "metadata": {},
   "outputs": [
    {
     "name": "stderr",
     "output_type": "stream",
     "text": [
      "c:\\Users\\Willson\\anaconda3\\envs\\ml\\Lib\\site-packages\\tqdm\\auto.py:21: TqdmWarning: IProgress not found. Please update jupyter and ipywidgets. See https://ipywidgets.readthedocs.io/en/stable/user_install.html\n",
      "  from .autonotebook import tqdm as notebook_tqdm\n",
      "c:\\Users\\Willson\\anaconda3\\envs\\ml\\Lib\\site-packages\\transformers\\models\\vit\\feature_extraction_vit.py:28: FutureWarning: The class ViTFeatureExtractor is deprecated and will be removed in version 5 of Transformers. Please use ViTImageProcessor instead.\n",
      "  warnings.warn(\n",
      "Some weights of ViTForImageClassification were not initialized from the model checkpoint at google/vit-base-patch16-224-in21k and are newly initialized: ['classifier.bias', 'classifier.weight']\n",
      "You should probably TRAIN this model on a down-stream task to be able to use it for predictions and inference.\n",
      "c:\\Users\\Willson\\anaconda3\\envs\\ml\\Lib\\site-packages\\transformers\\models\\vit\\modeling_vit.py:253: UserWarning: 1Torch was not compiled with flash attention. (Triggered internally at ..\\aten\\src\\ATen\\native\\transformers\\cuda\\sdp_utils.cpp:455.)\n",
      "  context_layer = torch.nn.functional.scaled_dot_product_attention(\n"
     ]
    },
    {
     "name": "stdout",
     "output_type": "stream",
     "text": [
      "Epoch 1/10, Training Loss: 0.9117\n",
      "Epoch 1/10, Validation Loss: 0.4212, Validation Accuracy: 0.8969\n",
      "Epoch 2/10, Training Loss: 0.2562\n",
      "Epoch 2/10, Validation Loss: 0.3510, Validation Accuracy: 0.9067\n",
      "Epoch 3/10, Training Loss: 0.1575\n",
      "Epoch 3/10, Validation Loss: 0.2723, Validation Accuracy: 0.9175\n",
      "Epoch 4/10, Training Loss: 0.0887\n",
      "Epoch 4/10, Validation Loss: 0.2892, Validation Accuracy: 0.9214\n",
      "Epoch 5/10, Training Loss: 0.0690\n",
      "Epoch 5/10, Validation Loss: 0.2967, Validation Accuracy: 0.9224\n",
      "Epoch 6/10, Training Loss: 0.0487\n",
      "Epoch 6/10, Validation Loss: 0.3385, Validation Accuracy: 0.9199\n",
      "Epoch 7/10, Training Loss: 0.0712\n",
      "Epoch 7/10, Validation Loss: 0.3256, Validation Accuracy: 0.9131\n",
      "Epoch 8/10, Training Loss: 0.0431\n",
      "Epoch 8/10, Validation Loss: 0.3477, Validation Accuracy: 0.9096\n",
      "Epoch 9/10, Training Loss: 0.0465\n",
      "Epoch 9/10, Validation Loss: 0.3296, Validation Accuracy: 0.9219\n",
      "Epoch 10/10, Training Loss: 0.0418\n",
      "Epoch 10/10, Validation Loss: 0.2815, Validation Accuracy: 0.9298\n"
     ]
    }
   ],
   "source": [
    "# MODEL SETUP AND TRAINING\n",
    "\n",
    "# Set the device (GPU or CPU)\n",
    "device = torch.device('cuda' if torch.cuda.is_available() else 'cpu')\n",
    "\n",
    "# Define data transformations\n",
    "data_transforms = transforms.Compose([\n",
    "    transforms.Resize((224, 224)),\n",
    "    transforms.ToTensor(),\n",
    "    transforms.Normalize(mean=[0.485, 0.456, 0.406], std=[0.229, 0.224, 0.225])\n",
    "])\n",
    "\n",
    "# Load your dataset using ImageFolder\n",
    "data_dir = 'c:/Users/Willson/Documents/shouldiwearit/data/clothing/polyvore/pv_images_split/train'\n",
    "dataset = ImageFolder(data_dir, transform=data_transforms)\n",
    "\n",
    "# Split the dataset into training and validation sets\n",
    "train_size = int(0.8 * len(dataset))  # 80% for training, 20% for validation\n",
    "val_size = len(dataset) - train_size\n",
    "train_dataset, val_dataset = random_split(dataset, [train_size, val_size])\n",
    "\n",
    "# Create DataLoaders for training and validation\n",
    "batch_size = 32\n",
    "train_dataloader = DataLoader(train_dataset, batch_size=batch_size, shuffle=True)\n",
    "val_dataloader = DataLoader(val_dataset, batch_size=batch_size, shuffle=False)\n",
    "\n",
    "# Initialize ViT feature extractor and model\n",
    "feature_extractor = ViTFeatureExtractor.from_pretrained('google/vit-base-patch16-224-in21k')\n",
    "model = ViTForImageClassification.from_pretrained('google/vit-base-patch16-224-in21k')\n",
    "\n",
    "# Modify the model's final classification layer for your number of classes\n",
    "num_classes = len(dataset.classes)  # Get the number of classes from your dataset\n",
    "model.classifier = nn.Linear(model.config.hidden_size, num_classes)  # Replace classifier with new Linear layer\n",
    "\n",
    "# Move model to device\n",
    "model.to(device)\n",
    "\n",
    "# Set up optimizer and loss function\n",
    "optimizer = torch.optim.Adam(model.parameters(), lr=1e-4)\n",
    "criterion = nn.CrossEntropyLoss()\n",
    "\n",
    "# Training loop with validation\n",
    "num_epochs = 10\n",
    "for epoch in range(num_epochs):\n",
    "    model.train()\n",
    "    running_loss = 0.0\n",
    "\n",
    "    for inputs, labels in train_dataloader:\n",
    "        inputs, labels = inputs.to(device), labels.to(device)\n",
    "\n",
    "        # Forward pass\n",
    "        outputs = model(inputs)\n",
    "        loss = criterion(outputs.logits, labels)\n",
    "\n",
    "        # Backward pass and optimization\n",
    "        optimizer.zero_grad()\n",
    "        loss.backward()\n",
    "        optimizer.step()\n",
    "\n",
    "        running_loss += loss.item()\n",
    "\n",
    "    epoch_loss = running_loss / len(train_dataloader)\n",
    "    print(f'Epoch {epoch+1}/{num_epochs}, Training Loss: {epoch_loss:.4f}')\n",
    "\n",
    "    # Validation\n",
    "    model.eval()\n",
    "    val_loss = 0.0\n",
    "    correct = 0\n",
    "    total = 0\n",
    "\n",
    "    with torch.no_grad():\n",
    "        for inputs, labels in val_dataloader:\n",
    "            inputs, labels = inputs.to(device), labels.to(device)\n",
    "\n",
    "            # Forward pass\n",
    "            outputs = model(inputs)\n",
    "            loss = criterion(outputs.logits, labels)\n",
    "\n",
    "            val_loss += loss.item()\n",
    "\n",
    "            # Calculate accuracy\n",
    "            _, predicted = torch.max(outputs.logits, 1)\n",
    "            correct += (predicted == labels).sum().item()\n",
    "            total += labels.size(0)\n",
    "\n",
    "    val_accuracy = correct / total\n",
    "    val_loss /= len(val_dataloader)\n",
    "    print(f'Epoch {epoch+1}/{num_epochs}, Validation Loss: {val_loss:.4f}, Validation Accuracy: {val_accuracy:.4f}')\n",
    "\n",
    "# Save the fine-tuned model\n",
    "torch.save(model.state_dict(), 'fine_tuned_vit_model.pth')"
   ]
  },
  {
   "cell_type": "code",
   "execution_count": 32,
   "metadata": {},
   "outputs": [
    {
     "name": "stderr",
     "output_type": "stream",
     "text": [
      "Some weights of ViTForImageClassification were not initialized from the model checkpoint at google/vit-base-patch16-224-in21k and are newly initialized: ['classifier.bias', 'classifier.weight']\n",
      "You should probably TRAIN this model on a down-stream task to be able to use it for predictions and inference.\n"
     ]
    },
    {
     "name": "stdout",
     "output_type": "stream",
     "text": [
      "Predicted: rings / Actual: C:/Users/Willson/Documents/shouldiwearit/data/clothing/polyvore/pv_images_split/val/rings\n"
     ]
    }
   ],
   "source": [
    "# TESTING THE MODEL\n",
    "\n",
    "# Load ViT with our last layer\n",
    "model = ViTForImageClassification.from_pretrained('google/vit-base-patch16-224-in21k')\n",
    "# feature_extractor = ViTFeatureExtractor.from_pretrained('google/vit-base-patch16-224-in21k')\n",
    "num_classes = len(dataset.classes)\n",
    "model.classifier = nn.Linear(model.config.hidden_size, num_classes)\n",
    "\n",
    "# Load trained weights\n",
    "model.load_state_dict(torch.load('fine_tuned_vit_model.pth'))\n",
    "model.eval()\n",
    "device = torch.device('cuda' if torch.cuda.is_available() else 'cpu')\n",
    "model.to(device)\n",
    "\n",
    "# Preprocess image\n",
    "data_transforms = transforms.Compose([\n",
    "    transforms.Resize((224, 224)),\n",
    "    transforms.ToTensor(),\n",
    "    transforms.Normalize(mean=[0.485, 0.456, 0.406], std=[0.229, 0.224, 0.225])\n",
    "])\n",
    "\n",
    "def preprocess_image(image_path):\n",
    "    image = Image.open(image_path).convert('RGB')\n",
    "    image = data_transforms(image)\n",
    "    return image.unsqueeze(0)\n",
    "\n",
    "# Predict\n",
    "def predict(image_path, model):\n",
    "    inputs = preprocess_image(image_path).to(device)\n",
    "\n",
    "    # Perform inference\n",
    "    with torch.no_grad():\n",
    "        outputs = model(inputs)\n",
    "        logits = outputs.logits\n",
    "        predicted_class_idx = torch.argmax(logits, dim=1).item()\n",
    "    \n",
    "    # Get the class name\n",
    "    class_names = dataset.classes\n",
    "    predicted_class = class_names[predicted_class_idx]\n",
    "    return predicted_class\n",
    "\n",
    "# Use from '/val' which our model has never seen\n",
    "image_path = 'C:/Users/Willson/Documents/shouldiwearit/data/clothing/polyvore/pv_images_split/val/rings/39931073_6.jpg'\n",
    "predicted_class = predict(image_path, model)\n",
    "actual_class = os.path.splitext(os.path.dirname(image_path))[0]\n",
    "print(f'Predicted: {predicted_class} / Actual: {actual_class}')"
   ]
  },
  {
   "cell_type": "markdown",
   "metadata": {
    "id": "vUA1aRCfDi2O"
   },
   "source": [
    "### RECOMMENDER PART"
   ]
  },
  {
   "cell_type": "markdown",
   "metadata": {
    "id": "expPjg2XF6dZ"
   },
   "source": [
    "VECTOR EXTRACTION"
   ]
  },
  {
   "cell_type": "code",
   "execution_count": null,
   "metadata": {
    "id": "4QkGPXUhDk4r"
   },
   "outputs": [],
   "source": [
    "# Extracting features (latent vectors) from the trained Vision Transformer\n",
    "def extract_features(model, dataloader):\n",
    "    model.eval()\n",
    "    features = []\n",
    "    with torch.no_grad():\n",
    "        for inputs, _ in dataloader:\n",
    "            inputs = inputs.to(device)\n",
    "            outputs = model.patch_embed(inputs)  # Get patch embeddings\n",
    "            cls_tokens = model.cls_token.expand(inputs.size(0), -1, -1)\n",
    "            x = torch.cat((cls_tokens, outputs), dim=1)\n",
    "            x = x + model.pos_embed\n",
    "            x = model.pos_drop(x)\n",
    "            x = model.transformer(x)\n",
    "            x = model.norm(x[:, 0])\n",
    "            features.append(x.cpu().numpy())\n",
    "    return np.concatenate(features)\n",
    "\n",
    "# Data loader for feature extraction\n",
    "feature_loader = DataLoader(train_dataset, batch_size=64, shuffle=False, num_workers=4)\n",
    "item_features = extract_features(model, feature_loader)"
   ]
  },
  {
   "cell_type": "markdown",
   "metadata": {
    "id": "FtaR-YXLF_8C"
   },
   "source": [
    "USER PROFILE AND RECOMMENDATION (currently ML, could be upgraded to a deep learning model based on user specifications)"
   ]
  },
  {
   "cell_type": "code",
   "execution_count": null,
   "metadata": {
    "id": "bXszRngRGIws"
   },
   "outputs": [],
   "source": [
    "# Example: User interaction data\n",
    "user_interactions = {\n",
    "    'user1': [0, 1, 2],  # Indices of items the user interacted with\n",
    "    'user2': [3, 4, 5],\n",
    "    # ...\n",
    "}\n",
    "\n",
    "# Create user profiles based on average features of interacted items\n",
    "user_profiles = {\n",
    "    user_id: np.mean([item_features[item_id] for item_id in items], axis=0)\n",
    "    for user_id, items in user_interactions.items()\n",
    "}\n",
    "\n",
    "# Recommendation function\n",
    "from sklearn.metrics.pairwise import cosine_similarity\n",
    "\n",
    "def recommend(user_id, top_n=10):\n",
    "    user_vector = user_profiles[user_id].reshape(1, -1)\n",
    "    similarities = cosine_similarity(user_vector, item_features)\n",
    "    recommended_items = np.argsort(similarities[0])[-top_n:]\n",
    "    return recommended_items\n",
    "\n",
    "# Example usage\n",
    "user_id = 'user1'\n",
    "recommended_items = recommend(user_id)\n",
    "print(f\"Recommended items for user {user_id}: {recommended_items}\")"
   ]
  }
 ],
 "metadata": {
  "colab": {
   "provenance": []
  },
  "kernelspec": {
   "display_name": "Python 3 (ipykernel)",
   "language": "python",
   "name": "python3"
  },
  "language_info": {
   "codemirror_mode": {
    "name": "ipython",
    "version": 3
   },
   "file_extension": ".py",
   "mimetype": "text/x-python",
   "name": "python",
   "nbconvert_exporter": "python",
   "pygments_lexer": "ipython3",
   "version": "3.11.9"
  }
 },
 "nbformat": 4,
 "nbformat_minor": 4
}
