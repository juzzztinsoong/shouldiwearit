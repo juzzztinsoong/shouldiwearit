{
 "cells": [
  {
   "cell_type": "code",
   "execution_count": 5,
   "metadata": {
    "id": "rTH1bPadEzd2"
   },
   "outputs": [],
   "source": [
    "#dependencies\n",
    "\n",
    "import torch\n",
    "import torch.nn as nn\n",
    "from torchvision import transforms, datasets\n",
    "from torch.utils.data import DataLoader"
   ]
  },
  {
   "cell_type": "markdown",
   "metadata": {
    "id": "GL5gPnaIDe7I"
   },
   "source": [
    "### ENCODER PART\n",
    "1. DATA LOADING\n",
    "2. IMAGE PREPROCESSING, RESIZING, CLEANING\n",
    "3. VISION TRANSFORMER ENCODER\n",
    "*   patch embeddding\n",
    "*   vision transformer\n",
    "4. TRAINING LOOP"
   ]
  },
  {
   "cell_type": "markdown",
   "metadata": {
    "id": "muswMA3ADx4r"
   },
   "source": [
    "DATA LOADING OF POLYVORE SET\n",
    "Do we want set to be categorized beforehand or not?"
   ]
  },
  {
   "cell_type": "code",
   "execution_count": 13,
   "metadata": {
    "id": "uS1vig5KDePe"
   },
   "outputs": [
    {
     "name": "stdout",
     "output_type": "stream",
     "text": [
      "C:/Users/justin/Desktop/fash/Re-PolyVore\\bag\n",
      "C:/Users/justin/Desktop/fash/Re-PolyVore\\bracelet\n",
      "C:/Users/justin/Desktop/fash/Re-PolyVore\\brooch\n",
      "C:/Users/justin/Desktop/fash/Re-PolyVore\\dress\n",
      "C:/Users/justin/Desktop/fash/Re-PolyVore\\earrings\n",
      "C:/Users/justin/Desktop/fash/Re-PolyVore\\eyewear\n",
      "C:/Users/justin/Desktop/fash/Re-PolyVore\\gloves\n",
      "C:/Users/justin/Desktop/fash/Re-PolyVore\\hairwear\n",
      "C:/Users/justin/Desktop/fash/Re-PolyVore\\hats\n",
      "C:/Users/justin/Desktop/fash/Re-PolyVore\\jumpsuit\n",
      "C:/Users/justin/Desktop/fash/Re-PolyVore\\legwear\n",
      "C:/Users/justin/Desktop/fash/Re-PolyVore\\necklace\n",
      "C:/Users/justin/Desktop/fash/Re-PolyVore\\neckwear\n",
      "C:/Users/justin/Desktop/fash/Re-PolyVore\\outwear\n",
      "C:/Users/justin/Desktop/fash/Re-PolyVore\\pants\n",
      "C:/Users/justin/Desktop/fash/Re-PolyVore\\rings\n",
      "C:/Users/justin/Desktop/fash/Re-PolyVore\\shoes\n",
      "C:/Users/justin/Desktop/fash/Re-PolyVore\\skirt\n",
      "C:/Users/justin/Desktop/fash/Re-PolyVore\\top\n",
      "C:/Users/justin/Desktop/fash/Re-PolyVore\\watches\n"
     ]
    }
   ],
   "source": [
    "import os\n",
    "directory = 'C:/Users/justin/Desktop/fash/Re-PolyVore'\n",
    "for filename in os.listdir(directory):\n",
    "    file_path = os.path.join(directory, filename)\n",
    "    print(file_path)\n",
    "    if os.path.isfile(file_path):  # Check if it's a file\n",
    "        print(file_path)"
   ]
  },
  {
   "cell_type": "markdown",
   "metadata": {
    "id": "7QWTn5A-Ep-W"
   },
   "source": [
    "IMAGE PREPROCESSING\n",
    "\n",
    "Resizing down to 256x256 size, or maybe smaller, depending on training speed and quality"
   ]
  },
  {
   "cell_type": "markdown",
   "metadata": {
    "id": "M91rE256Ev5h"
   },
   "source": [
    "VISION TRANSFORMER ENCODER - supervised learning"
   ]
  },
  {
   "cell_type": "code",
   "execution_count": 7,
   "metadata": {
    "colab": {
     "base_uri": "https://localhost:8080/",
     "height": 108
    },
    "id": "SLsnitX7Es-T",
    "outputId": "d0a2b2f5-aad8-4137-ec13-00bd2f234ac4"
   },
   "outputs": [],
   "source": [
    "class PatchEmbedding(nn.Module):\n",
    "    def __init__(self, img_size=224, patch_size=16, in_chans=3, embed_dim=768):\n",
    "        super(PatchEmbedding, self).__init__()\n",
    "        self.img_size = img_size\n",
    "        self.patch_size = patch_size\n",
    "        self.num_patches = (img_size // patch_size) ** 2\n",
    "        self.embed_dim = embed_dim\n",
    "\n",
    "        self.proj = nn.Conv2d(in_chans, embed_dim, kernel_size=patch_size, stride=patch_size)\n",
    "\n",
    "    def forward(self, x):\n",
    "        x = self.proj(x)  # Shape: (batch_size, embed_dim, num_patches ** 0.5, num_patches ** 0.5)\n",
    "        x = x.flatten(2)  # Shape: (batch_size, embed_dim, num_patches)\n",
    "        x = x.transpose(1, 2)  # Shape: (batch_size, num_patches, embed_dim)\n",
    "        return x\n",
    "\n",
    "class VisionTransformer(nn.Module):\n",
    "    def __init__(self, img_size=224, patch_size=16, num_classes=1000, embed_dim=768, depth=12, num_heads=12):\n",
    "        super(VisionTransformer, self).__init__()\n",
    "        self.patch_embed = PatchEmbedding(img_size=img_size, patch_size=patch_size, embed_dim=embed_dim)\n",
    "        self.cls_token = nn.Parameter(torch.zeros(1, 1, embed_dim))\n",
    "        self.pos_embed = nn.Parameter(torch.zeros(1, self.patch_embed.num_patches + 1, embed_dim))\n",
    "        self.pos_drop = nn.Dropout(p=0.1)\n",
    "        self.transformer = nn.TransformerEncoder(\n",
    "            nn.TransformerEncoderLayer(embed_dim, num_heads), num_layers=depth\n",
    "        )\n",
    "        self.norm = nn.LayerNorm(embed_dim)\n",
    "        self.head = nn.Linear(embed_dim, num_classes)\n",
    "\n",
    "    def forward(self, x):\n",
    "        x = self.patch_embed(x)\n",
    "        batch_size = x.size(0)\n",
    "        cls_tokens = self.cls_token.expand(batch_size, -1, -1)\n",
    "        x = torch.cat((cls_tokens, x), dim=1)\n",
    "        x = x + self.pos_embed\n",
    "        x = self.pos_drop(x)\n",
    "        x = self.transformer(x)\n",
    "        x = self.norm(x[:, 0])\n",
    "        x = self.head(x)\n",
    "        return x\n",
    "\n",
    "# Define the model\n",
    "model = VisionTransformer(img_size=224, patch_size=16, num_classes=1000, embed_dim=768, depth=12, num_heads=12)"
   ]
  },
  {
   "cell_type": "markdown",
   "metadata": {
    "id": "v2F13Vc_Hhdb"
   },
   "source": [
    "\n",
    "VISION TRANSFORMER ENCODER - self-supervised learning\n",
    "\n",
    "A decoding part is required to reconstruct masked patches or perform other reconstruction tasks."
   ]
  },
  {
   "cell_type": "code",
   "execution_count": null,
   "metadata": {
    "id": "Pe49c_GHHcDw"
   },
   "outputs": [],
   "source": [
    "# Modified Vision Transformer for self-supervised learning\n",
    "class VisionTransformerSSL(nn.Module):\n",
    "    def __init__(self, img_size=224, patch_size=16, embed_dim=768, depth=12, num_heads=12):\n",
    "        super(VisionTransformerSSL, self).__init__()\n",
    "        self.patch_embed = PatchEmbedding(img_size=img_size, patch_size=patch_size, embed_dim=embed_dim)\n",
    "        self.pos_embed = nn.Parameter(torch.zeros(1, self.patch_embed.num_patches + 1, embed_dim))\n",
    "        self.transformer = nn.TransformerEncoder(\n",
    "            nn.TransformerEncoderLayer(embed_dim, num_heads), num_layers=depth\n",
    "        )\n",
    "        self.decoder = nn.Linear(embed_dim, patch_size * patch_size * 3)  # Assuming RGB patches\n",
    "\n",
    "    def forward(self, x):\n",
    "        x = self.patch_embed(x)\n",
    "        batch_size = x.size(0)\n",
    "        x = x + self.pos_embed[:, 1:, :]\n",
    "        x = self.transformer(x)\n",
    "        x = self.decoder(x)\n",
    "        return x\n",
    "\n",
    "# Define the model, loss function, and optimizer\n",
    "model_ssl = VisionTransformerSSL(img_size=224, patch_size=16, embed_dim=768, depth=12, num_heads=12)\n",
    "criterion = nn.MSELoss()\n",
    "optimizer = optim.AdamW(model_ssl.parameters(), lr=3e-4)\n",
    "\n",
    "# Dummy training loop for self-supervised learning\n",
    "for epoch in range(num_epochs):\n",
    "    model_ssl.train()\n",
    "    running_loss = 0.0\n",
    "    for inputs, _ in train_loader:\n",
    "        inputs = inputs.to(device)\n",
    "        # Create masked inputs and targets\n",
    "        masked_inputs, targets = create_masked_patches(inputs)\n",
    "        optimizer.zero_grad()\n",
    "        outputs = model_ssl(masked_inputs)\n",
    "        loss = criterion(outputs, targets)\n",
    "        loss.backward()\n",
    "        optimizer.step()\n",
    "        running_loss += loss.item() * inputs.size(0)\n",
    "\n",
    "    epoch_loss = running_loss / len(train_loader.dataset)\n",
    "    print(f\"Epoch {epoch+1}/{num_epochs}, Loss: {epoch_loss:.4f}\")"
   ]
  },
  {
   "cell_type": "markdown",
   "metadata": {
    "id": "N7VhxdyrHnr5"
   },
   "source": [
    "VISION TRANSFORMER ENCODER - pre trained model"
   ]
  },
  {
   "cell_type": "code",
   "execution_count": null,
   "metadata": {
    "id": "46-8WHqOHnIE"
   },
   "outputs": [],
   "source": [
    "from transformers import ViTModel, ViTFeatureExtractor\n",
    "import torch\n",
    "\n",
    "# Load pre-trained Vision Transformer model and feature extractor\n",
    "model_name = \"google/vit-base-patch16-224\"\n",
    "model = ViTModel.from_pretrained(model_name)\n",
    "feature_extractor = ViTFeatureExtractor.from_pretrained(model_name)\n",
    "\n",
    "# Define a function to extract features\n",
    "def extract_vit_features(images):\n",
    "    inputs = feature_extractor(images=images, return_tensors=\"pt\")\n",
    "    outputs = model(**inputs)\n",
    "    return outputs.last_hidden_state[:, 0, :].detach().numpy()  # CLS token features\n",
    "\n",
    "# Example usage with an image\n",
    "from PIL import Image\n",
    "image = Image.open('path_to_image.jpg')\n",
    "features = extract_vit_features([image])\n",
    "print(features.shape)  # Should be (1, 768) for ViT-base"
   ]
  },
  {
   "cell_type": "markdown",
   "metadata": {
    "id": "o5CTjrshFCZF"
   },
   "source": [
    "TRAINING LOOP"
   ]
  },
  {
   "cell_type": "code",
   "execution_count": null,
   "metadata": {
    "id": "zEGSoxXZFB-F"
   },
   "outputs": [],
   "source": [
    "# Data preprocessing\n",
    "transform = transforms.Compose([\n",
    "    transforms.Resize(256),\n",
    "    transforms.CenterCrop(224),\n",
    "    transforms.ToTensor(),\n",
    "    transforms.Normalize(mean=[0.485, 0.456, 0.406], std=[0.229, 0.224, 0.225])\n",
    "])\n",
    "\n",
    "# Load dataset\n",
    "train_dataset = datasets.ImageFolder(root='path_to_train_dataset', transform=transform)\n",
    "train_loader = DataLoader(train_dataset, batch_size=64, shuffle=True, num_workers=4)\n",
    "\n",
    "# Training loop\n",
    "device = torch.device(\"cuda\" if torch.cuda.is_available() else \"cpu\")\n",
    "model.to(device)\n",
    "optimizer = torch.optim.AdamW(model.parameters(), lr=3e-4)\n",
    "criterion = nn.CrossEntropyLoss()\n",
    "\n",
    "for epoch in range(num_epochs):\n",
    "    model.train()\n",
    "    running_loss = 0.0\n",
    "    for inputs, labels in train_loader:\n",
    "        inputs, labels = inputs.to(device), labels.to(device)\n",
    "        optimizer.zero_grad()\n",
    "        outputs = model(inputs)\n",
    "        loss = criterion(outputs, labels)\n",
    "        loss.backward()\n",
    "        optimizer.step()\n",
    "        running_loss += loss.item() * inputs.size(0)\n",
    "\n",
    "    epoch_loss = running_loss / len(train_loader.dataset)\n",
    "    print(f\"Epoch {epoch+1}/{num_epochs}, Loss: {epoch_loss:.4f}\")"
   ]
  },
  {
   "cell_type": "markdown",
   "metadata": {
    "id": "vUA1aRCfDi2O"
   },
   "source": [
    "### RECOMMENDER PART"
   ]
  },
  {
   "cell_type": "markdown",
   "metadata": {
    "id": "expPjg2XF6dZ"
   },
   "source": [
    "VECTOR EXTRACTION"
   ]
  },
  {
   "cell_type": "code",
   "execution_count": null,
   "metadata": {
    "id": "4QkGPXUhDk4r"
   },
   "outputs": [],
   "source": [
    "# Extracting features (latent vectors) from the trained Vision Transformer\n",
    "def extract_features(model, dataloader):\n",
    "    model.eval()\n",
    "    features = []\n",
    "    with torch.no_grad():\n",
    "        for inputs, _ in dataloader:\n",
    "            inputs = inputs.to(device)\n",
    "            outputs = model.patch_embed(inputs)  # Get patch embeddings\n",
    "            cls_tokens = model.cls_token.expand(inputs.size(0), -1, -1)\n",
    "            x = torch.cat((cls_tokens, outputs), dim=1)\n",
    "            x = x + model.pos_embed\n",
    "            x = model.pos_drop(x)\n",
    "            x = model.transformer(x)\n",
    "            x = model.norm(x[:, 0])\n",
    "            features.append(x.cpu().numpy())\n",
    "    return np.concatenate(features)\n",
    "\n",
    "# Data loader for feature extraction\n",
    "feature_loader = DataLoader(train_dataset, batch_size=64, shuffle=False, num_workers=4)\n",
    "item_features = extract_features(model, feature_loader)"
   ]
  },
  {
   "cell_type": "markdown",
   "metadata": {
    "id": "FtaR-YXLF_8C"
   },
   "source": [
    "USER PROFILE AND RECOMMENDATION (currently ML, could be upgraded to a deep learning model based on user specifications)"
   ]
  },
  {
   "cell_type": "code",
   "execution_count": null,
   "metadata": {
    "id": "bXszRngRGIws"
   },
   "outputs": [],
   "source": [
    "# Example: User interaction data\n",
    "user_interactions = {\n",
    "    'user1': [0, 1, 2],  # Indices of items the user interacted with\n",
    "    'user2': [3, 4, 5],\n",
    "    # ...\n",
    "}\n",
    "\n",
    "# Create user profiles based on average features of interacted items\n",
    "user_profiles = {\n",
    "    user_id: np.mean([item_features[item_id] for item_id in items], axis=0)\n",
    "    for user_id, items in user_interactions.items()\n",
    "}\n",
    "\n",
    "# Recommendation function\n",
    "from sklearn.metrics.pairwise import cosine_similarity\n",
    "\n",
    "def recommend(user_id, top_n=10):\n",
    "    user_vector = user_profiles[user_id].reshape(1, -1)\n",
    "    similarities = cosine_similarity(user_vector, item_features)\n",
    "    recommended_items = np.argsort(similarities[0])[-top_n:]\n",
    "    return recommended_items\n",
    "\n",
    "# Example usage\n",
    "user_id = 'user1'\n",
    "recommended_items = recommend(user_id)\n",
    "print(f\"Recommended items for user {user_id}: {recommended_items}\")"
   ]
  }
 ],
 "metadata": {
  "colab": {
   "provenance": []
  },
  "kernelspec": {
   "display_name": "Python 3 (ipykernel)",
   "language": "python",
   "name": "python3"
  },
  "language_info": {
   "codemirror_mode": {
    "name": "ipython",
    "version": 3
   },
   "file_extension": ".py",
   "mimetype": "text/x-python",
   "name": "python",
   "nbconvert_exporter": "python",
   "pygments_lexer": "ipython3",
   "version": "3.11.9"
  }
 },
 "nbformat": 4,
 "nbformat_minor": 4
}
